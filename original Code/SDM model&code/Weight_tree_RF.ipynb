{
 "cells": [
  {
   "cell_type": "code",
   "id": "485892478368fde",
   "metadata": {
    "collapsed": true,
    "ExecuteTime": {
     "end_time": "2024-08-30T08:46:48.411198Z",
     "start_time": "2024-08-30T08:46:36.481516Z"
    }
   },
   "source": [
    "# Department of Mechanical Science and Engineering  HUST \n",
    "# Tiyong Zhao\n",
    "# Time: 2024/7/22 15:21\n",
    "\n",
    "'''\n",
    "https://blog.csdn.net/qq_45889931/article/details/129943445\n",
    "'''\n",
    "\n",
    "import numpy as np\n",
    "from sklearn.metrics import ConfusionMatrixDisplay\n",
    "import pandas as pd\n",
    "import matplotlib.pyplot as plt\n",
    "import joblib\n",
    "from sklearn.utils.class_weight import compute_sample_weight\n",
    "from sklearn.preprocessing import LabelEncoder\n",
    "from sklearn.metrics import accuracy_score\n",
    "from sklearn.model_selection import train_test_split\n",
    "from sklearn.discriminant_analysis import LinearDiscriminantAnalysis\n",
    "from sklearn.ensemble import VotingClassifier, RandomForestClassifier, AdaBoostClassifier, GradientBoostingClassifier, ExtraTreesClassifier\n",
    "from sklearn.tree import DecisionTreeClassifier\n",
    "from sklearn.linear_model import LogisticRegression\n",
    "from sklearn.svm import SVC\n",
    "from sklearn.neighbors import KNeighborsClassifier\n",
    "from sklearn.neural_network import MLPClassifier\n",
    "\n",
    "import warnings\n",
    "warnings.filterwarnings(\"ignore\")\n",
    "\n",
    "\n",
    "# 读取数据\n",
    "df=pd.read_excel(io=r\"D:\\gripper\\数据收集和测试\\一株3贴N\\model&result\\0830的模型对应的概率_WRF\\All_data_0824.xlsx\")\n",
    "# print(df.values)\n",
    "print(df.values[0,0])    #通过df.valued[]的方式引用数据\n",
    "# print(type(df.values[0,1]))\n",
    "row = len(df.values)\n",
    "print(row)  # 输出行数，（数据的组数）\n"
   ],
   "outputs": [
    {
     "name": "stdout",
     "output_type": "stream",
     "text": [
      "0.14836706033079328\n",
      "1368\n"
     ]
    }
   ],
   "execution_count": 1
  },
  {
   "metadata": {
    "ExecuteTime": {
     "end_time": "2024-08-30T08:46:48.424651Z",
     "start_time": "2024-08-30T08:46:48.412224Z"
    }
   },
   "cell_type": "code",
   "source": [
    "# 获取特征和标签，划分训练集、测试集\n",
    "features_num = 16\n",
    "features = df.values[:, 0:features_num]\n",
    "labels = df.values[:, features_num]\n",
    "train_data, test_data, train_label, test_label = train_test_split(features, labels, random_state=0, train_size=0.8)    # 训练集，测试集占比\n",
    "                                                                    # sklearn.model_selection.\n",
    "\n",
    "# 编码标签\n",
    "le = LabelEncoder()\n",
    "y_train_encoded = le.fit_transform(train_label)\n",
    "train_label_encoded = le.fit_transform(train_label)\n",
    "# 检查编码后的标签\n",
    "print(\"Encoded labels:\", train_label_encoded)    # 0,1,2,3,4   依次对应  'K', 'N', 'P', 'health', 'white'\n",
    "print(train_label)"
   ],
   "id": "bf4379f5153608f3",
   "outputs": [
    {
     "name": "stdout",
     "output_type": "stream",
     "text": [
      "Encoded labels: [1 1 2 ... 4 0 1]\n",
      "['N' 'N' 'P' ... 'white' 'K' 'N']\n"
     ]
    }
   ],
   "execution_count": 2
  },
  {
   "metadata": {
    "ExecuteTime": {
     "end_time": "2024-08-30T08:46:48.442774Z",
     "start_time": "2024-08-30T08:46:48.424843Z"
    }
   },
   "cell_type": "code",
   "source": [
    "# 样本加权\n",
    "class_weight = {0: 0.5, 1: 5.0, 2: 1.0, 3: 1.0, 4: 1.0}     # “balanced”\n",
    "sample_weights = compute_sample_weight(class_weight, train_label_encoded)\n",
    "# 打印样本权重\n",
    "print(\"Sample weights:\", sample_weights)"
   ],
   "id": "403a7f8a44d2c74c",
   "outputs": [
    {
     "name": "stdout",
     "output_type": "stream",
     "text": [
      "Sample weights: [5.  5.  1.  ... 1.  0.5 5. ]\n"
     ]
    }
   ],
   "execution_count": 3
  },
  {
   "metadata": {
    "ExecuteTime": {
     "end_time": "2024-08-30T08:46:48.464660Z",
     "start_time": "2024-08-30T08:46:48.442774Z"
    }
   },
   "cell_type": "code",
   "source": [
    "\n",
    "'''构造加权随机森林'''\n",
    "# 定义基分类器\n",
    "tree = DecisionTreeClassifier(max_depth=5\n",
    "                                    , criterion=\"entropy\"    # entropy效果好\n",
    "                                    , random_state=3           # 这个参数影响不大\n",
    "                                    , splitter=\"best\"\n",
    "                                    , min_samples_leaf=1\n",
    "                                    , max_features = 14\n",
    "                                  # , min_impurity_decrease = 0.01     # 该参数默认，效果好\n",
    "                                    , min_samples_split = 16)\n",
    "rf = RandomForestClassifier(n_estimators=40            # 默认为10\n",
    "                               , min_samples_split=5\n",
    "                               , random_state=0\n",
    "                               , oob_score=True          # 默认为False。推荐使用True，因为这样可以反映模型拟合后的泛化能力。\n",
    "                               , criterion=\"entropy\"     # 比gini系数好一些\n",
    "                               , max_depth=3)\n",
    "lr = LogisticRegression(    \n",
    "    penalty='l2',              # 使用L2正则化\n",
    "    C=20,                     # 正则化强度的倒数\n",
    "    solver='lbfgs',        # 使用liblinear求解器\n",
    "    multi_class='multinomial',\n",
    "    max_iter=1000,              # 最大迭代次数\n",
    "    class_weight='balanced')    # 平衡类权重)\n",
    "svc = SVC(probability=True)\n",
    "knn = KNeighborsClassifier(n_neighbors=5)\n",
    "mlp = MLPClassifier(hidden_layer_sizes=(100,), max_iter=1000)\n",
    "ada = AdaBoostClassifier(n_estimators=50)\n",
    "gbc = GradientBoostingClassifier(n_estimators=50)\n",
    "etc = ExtraTreesClassifier(n_estimators=10)\n",
    "lda = LinearDiscriminantAnalysis()\n",
    "\n",
    "# 定义加权投票分类器\n",
    "model = VotingClassifier(estimators=[\n",
    "    ('dt', tree),\n",
    "    ('rf', rf),\n",
    "    ('lr', lr),\n",
    "    ('svc', svc),\n",
    "    # ('knn', knn),    # knn,mlp,lda不支持samples_weight\n",
    "   # ('mlp', mlp),\n",
    "    ('ada', ada),\n",
    "    ('gbc', gbc),\n",
    "    ('etc', etc),\n",
    "    # ('lda', lda)\n",
    "    ],\n",
    "    voting = 'soft', weights = [0.15, 0.15, 0.15, 0.15, 0.15, 0.15, 0.1]\n",
    ")"
   ],
   "id": "847b5f6e0ef0e259",
   "outputs": [],
   "execution_count": 4
  },
  {
   "metadata": {
    "ExecuteTime": {
     "end_time": "2024-08-30T08:46:49.781317Z",
     "start_time": "2024-08-30T08:46:48.465872Z"
    }
   },
   "cell_type": "code",
   "source": [
    "\n",
    "# 训练\n",
    "model = model.fit(train_data, train_label, sample_weight=sample_weights)\n",
    "# 查看模型在训练集、测试集的分类效果\n",
    "score_test = model.score(test_data, test_label)\n",
    "print('测试集精度: ', score_test)\n",
    "score_train = model.score(train_data, train_label)\n",
    "print('训练集精度: ', score_train)\n",
    "\n",
    "#save model\n",
    "joblib.dump(model, r\"D:\\gripper\\数据收集和测试\\一株3贴N\\model&result\\0830的模型对应的概率_WRF\\WRF_tree_model2.pkl\")\n"
   ],
   "id": "f4d8e95448358aa6",
   "outputs": [
    {
     "name": "stdout",
     "output_type": "stream",
     "text": [
      "测试集精度:  0.9781021897810219\n",
      "训练集精度:  0.9972577696526508\n"
     ]
    },
    {
     "data": {
      "text/plain": [
       "['D:\\\\gripper\\\\数据收集和测试\\\\一株3贴N\\\\model&result\\\\0830的模型对应的概率_WRF\\\\WRF_tree_model2.pkl']"
      ]
     },
     "execution_count": 5,
     "metadata": {},
     "output_type": "execute_result"
    }
   ],
   "execution_count": 5
  },
  {
   "metadata": {
    "ExecuteTime": {
     "end_time": "2024-08-30T08:47:02.459696Z",
     "start_time": "2024-08-30T08:46:49.782318Z"
    }
   },
   "cell_type": "code",
   "source": [
    "\n",
    "# 创建十折交叉验证对象\n",
    "from sklearn.model_selection import train_test_split,cross_val_score, KFold\n",
    "kfold = KFold(n_splits=10)\n",
    "# 执行十折交叉验证\n",
    "scores = cross_val_score(model, features, labels, cv=kfold)  # train_data, train_label   test_data, test_label\n",
    "# 输出每折的准确率\n",
    "for i, score in enumerate(scores):\n",
    "    print(\"Fold {}: {:.4f}\".format(i+1, score))\n",
    "# 输出平均准确率\n",
    "print(\"Average Accuracy: {:.4f}\".format(scores.mean()))\n"
   ],
   "id": "42a0aa919073766",
   "outputs": [
    {
     "name": "stdout",
     "output_type": "stream",
     "text": [
      "Fold 1: 0.9854\n",
      "Fold 2: 1.0000\n",
      "Fold 3: 0.9708\n",
      "Fold 4: 1.0000\n",
      "Fold 5: 0.8248\n",
      "Fold 6: 0.8394\n",
      "Fold 7: 0.9635\n",
      "Fold 8: 0.9781\n",
      "Fold 9: 1.0000\n",
      "Fold 10: 0.9485\n",
      "Average Accuracy: 0.9511\n"
     ]
    }
   ],
   "execution_count": 6
  },
  {
   "metadata": {
    "ExecuteTime": {
     "end_time": "2024-08-30T08:47:03.041967Z",
     "start_time": "2024-08-30T08:47:02.460698Z"
    }
   },
   "cell_type": "code",
   "source": [
    "\n",
    "# '''\n",
    "#  绘制：测试集的归一化的混淆矩阵(normalize confusion matrix)\n",
    "# 如果不能绘制，就把随机森林可视化的代码注释一下\n",
    "disp = ConfusionMatrixDisplay.from_estimator(\n",
    "        model,\n",
    "        test_data,\n",
    "        test_label,\n",
    "        cmap=plt.cm.Blues,\n",
    "        normalize=\"true\",\n",
    "    )\n",
    "disp.ax_.set_title('WRF')\n",
    "plt.savefig(r\"D:\\gripper\\数据收集和测试\\一株3贴N\\model&result\\0830的模型对应的概率_WRF\\WRF.png\")    #保存图片一定要在plt.show()之前\n",
    "#plt.savefig(r'C:\\Users\\jiang\\Desktop\\all_data\\20240106SI\\RF\\RF confusion matrix normal.svg')\n",
    "#plt.savefig(r'C:\\Users\\jiang\\Desktop\\all_data\\20240106SI\\RF\\RF confusion matrix normal.eps')\n",
    "plt.show()\n",
    "\n",
    "#   绘制：测试集的混淆矩阵(confusion matrix)\n",
    "pre_test_label = model.predict(test_data)\n",
    "from sklearn.metrics import confusion_matrix\n",
    "confusion = confusion_matrix(test_label, pre_test_label)\n",
    "# 热度图，后面是指定的颜色块，可设置其他的不同颜色\n",
    "plt.imshow(confusion, cmap=plt.cm.Oranges)\n",
    "# ticks 坐标轴的坐标点\n",
    "# label 坐标轴标签说明\n",
    "indices = range(len(confusion))\n",
    "plt.xticks(indices, ['K', 'N', 'P', 'health', 'white'])\n",
    "plt.yticks(indices, ['K', 'N', 'P', 'health', 'white'])\n",
    "plt.colorbar()\n",
    "plt.ylabel('True Labels')\n",
    "plt.xlabel('Predicted Labels')\n",
    "plt.title('WRF')\n",
    "# plt.rcParams两行是用于解决标签不能显示汉字的问题\n",
    "plt.rcParams['font.sans-serif'] = ['SimHei']\n",
    "plt.rcParams['axes.unicode_minus'] = False\n",
    "# 显示数据\n",
    "for first_index in range(len(confusion)):  # 第几行\n",
    "    for second_index in range(len(confusion[first_index])):  # 第几列\n",
    "        plt.text(first_index, second_index, confusion[second_index][first_index])\n",
    "plt.savefig(r\"D:\\gripper\\数据收集和测试\\一株3贴N\\model&result\\0830的模型对应的概率_WRF\\WRF2.png\")    #保存图片一定要在plt.show()之前\n",
    "plt.show()"
   ],
   "id": "initial_id",
   "outputs": [
    {
     "data": {
      "text/plain": [
       "<Figure size 640x480 with 2 Axes>"
      ],
      "image/png": "[encoded data removed]"
     },
     "metadata": {},
     "output_type": "display_data"
    },
    {
     "data": {
      "text/plain": [
       "<Figure size 640x480 with 2 Axes>"
      ],
      "image/png": "[encoded data removed]"
     },
     "metadata": {},
     "output_type": "display_data"
    }
   ],
   "execution_count": 7
  },
  {
   "metadata": {
    "ExecuteTime": {
     "end_time": "2024-08-30T08:47:03.048384Z",
     "start_time": "2024-08-30T08:47:03.042338Z"
    }
   },
   "cell_type": "code",
   "source": "",
   "id": "9e1bf5a927653530",
   "outputs": [],
   "execution_count": 7
  }
 ],
 "metadata": {
  "kernelspec": {
   "display_name": "Python 3",
   "language": "python",
   "name": "python3"
  },
  "language_info": {
   "codemirror_mode": {
    "name": "ipython",
    "version": 2
   },
   "file_extension": ".py",
   "mimetype": "text/x-python",
   "name": "python",
   "nbconvert_exporter": "python",
   "pygments_lexer": "ipython2",
   "version": "2.7.6"
  }
 },
 "nbformat": 4,
 "nbformat_minor": 5
}
