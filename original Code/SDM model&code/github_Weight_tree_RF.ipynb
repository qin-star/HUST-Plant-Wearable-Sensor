{
 "cells": [
  {
   "cell_type": "code",
   "id": "485892478368fde",
   "metadata": {
    "collapsed": true,
    "ExecuteTime": {
     "end_time": "2025-04-08T02:10:26.108590Z",
     "start_time": "2025-04-08T02:10:26.046191Z"
    }
   },
   "source": [
    "import numpy as np\n",
    "from sklearn.metrics import ConfusionMatrixDisplay\n",
    "import pandas as pd\n",
    "import matplotlib.pyplot as plt\n",
    "import joblib\n",
    "from sklearn.utils.class_weight import compute_sample_weight\n",
    "from sklearn.preprocessing import LabelEncoder\n",
    "from sklearn.metrics import accuracy_score\n",
    "from sklearn.model_selection import train_test_split\n",
    "from sklearn.discriminant_analysis import LinearDiscriminantAnalysis\n",
    "from sklearn.ensemble import VotingClassifier, RandomForestClassifier, AdaBoostClassifier, GradientBoostingClassifier, ExtraTreesClassifier\n",
    "from sklearn.tree import DecisionTreeClassifier\n",
    "from sklearn.linear_model import LogisticRegression\n",
    "from sklearn.svm import SVC\n",
    "\n",
    "\n",
    "import warnings\n",
    "warnings.filterwarnings(\"ignore\")\n",
    "\n",
    "# read data\n",
    "df=pd.read_excel(io=r\"your file path\")\n",
    "# print(df.values[0,0])\n",
    "row = len(df.values)\n",
    "# print(row)\n"
   ],
   "outputs": [
    {
     "ename": "FileNotFoundError",
     "evalue": "[Errno 2] No such file or directory: 'your file path'",
     "output_type": "error",
     "traceback": [
      "\u001B[1;31m---------------------------------------------------------------------------\u001B[0m",
      "\u001B[1;31mFileNotFoundError\u001B[0m                         Traceback (most recent call last)",
      "Cell \u001B[1;32mIn[3], line 21\u001B[0m\n\u001B[0;32m     18\u001B[0m warnings\u001B[38;5;241m.\u001B[39mfilterwarnings(\u001B[38;5;124m\"\u001B[39m\u001B[38;5;124mignore\u001B[39m\u001B[38;5;124m\"\u001B[39m)\n\u001B[0;32m     20\u001B[0m \u001B[38;5;66;03m# read data\u001B[39;00m\n\u001B[1;32m---> 21\u001B[0m df\u001B[38;5;241m=\u001B[39mpd\u001B[38;5;241m.\u001B[39mread_excel(io\u001B[38;5;241m=\u001B[39m\u001B[38;5;124mr\u001B[39m\u001B[38;5;124m\"\u001B[39m\u001B[38;5;124myour file path\u001B[39m\u001B[38;5;124m\"\u001B[39m)\n\u001B[0;32m     22\u001B[0m \u001B[38;5;66;03m# print(df.values[0,0])\u001B[39;00m\n\u001B[0;32m     23\u001B[0m row \u001B[38;5;241m=\u001B[39m \u001B[38;5;28mlen\u001B[39m(df\u001B[38;5;241m.\u001B[39mvalues)\n",
      "File \u001B[1;32mD:\\anaconda\\anaconda\\Lib\\site-packages\\pandas\\io\\excel\\_base.py:495\u001B[0m, in \u001B[0;36mread_excel\u001B[1;34m(io, sheet_name, header, names, index_col, usecols, dtype, engine, converters, true_values, false_values, skiprows, nrows, na_values, keep_default_na, na_filter, verbose, parse_dates, date_parser, date_format, thousands, decimal, comment, skipfooter, storage_options, dtype_backend, engine_kwargs)\u001B[0m\n\u001B[0;32m    493\u001B[0m \u001B[38;5;28;01mif\u001B[39;00m \u001B[38;5;129;01mnot\u001B[39;00m \u001B[38;5;28misinstance\u001B[39m(io, ExcelFile):\n\u001B[0;32m    494\u001B[0m     should_close \u001B[38;5;241m=\u001B[39m \u001B[38;5;28;01mTrue\u001B[39;00m\n\u001B[1;32m--> 495\u001B[0m     io \u001B[38;5;241m=\u001B[39m ExcelFile(\n\u001B[0;32m    496\u001B[0m         io,\n\u001B[0;32m    497\u001B[0m         storage_options\u001B[38;5;241m=\u001B[39mstorage_options,\n\u001B[0;32m    498\u001B[0m         engine\u001B[38;5;241m=\u001B[39mengine,\n\u001B[0;32m    499\u001B[0m         engine_kwargs\u001B[38;5;241m=\u001B[39mengine_kwargs,\n\u001B[0;32m    500\u001B[0m     )\n\u001B[0;32m    501\u001B[0m \u001B[38;5;28;01melif\u001B[39;00m engine \u001B[38;5;129;01mand\u001B[39;00m engine \u001B[38;5;241m!=\u001B[39m io\u001B[38;5;241m.\u001B[39mengine:\n\u001B[0;32m    502\u001B[0m     \u001B[38;5;28;01mraise\u001B[39;00m \u001B[38;5;167;01mValueError\u001B[39;00m(\n\u001B[0;32m    503\u001B[0m         \u001B[38;5;124m\"\u001B[39m\u001B[38;5;124mEngine should not be specified when passing \u001B[39m\u001B[38;5;124m\"\u001B[39m\n\u001B[0;32m    504\u001B[0m         \u001B[38;5;124m\"\u001B[39m\u001B[38;5;124man ExcelFile - ExcelFile already has the engine set\u001B[39m\u001B[38;5;124m\"\u001B[39m\n\u001B[0;32m    505\u001B[0m     )\n",
      "File \u001B[1;32mD:\\anaconda\\anaconda\\Lib\\site-packages\\pandas\\io\\excel\\_base.py:1550\u001B[0m, in \u001B[0;36mExcelFile.__init__\u001B[1;34m(self, path_or_buffer, engine, storage_options, engine_kwargs)\u001B[0m\n\u001B[0;32m   1548\u001B[0m     ext \u001B[38;5;241m=\u001B[39m \u001B[38;5;124m\"\u001B[39m\u001B[38;5;124mxls\u001B[39m\u001B[38;5;124m\"\u001B[39m\n\u001B[0;32m   1549\u001B[0m \u001B[38;5;28;01melse\u001B[39;00m:\n\u001B[1;32m-> 1550\u001B[0m     ext \u001B[38;5;241m=\u001B[39m inspect_excel_format(\n\u001B[0;32m   1551\u001B[0m         content_or_path\u001B[38;5;241m=\u001B[39mpath_or_buffer, storage_options\u001B[38;5;241m=\u001B[39mstorage_options\n\u001B[0;32m   1552\u001B[0m     )\n\u001B[0;32m   1553\u001B[0m     \u001B[38;5;28;01mif\u001B[39;00m ext \u001B[38;5;129;01mis\u001B[39;00m \u001B[38;5;28;01mNone\u001B[39;00m:\n\u001B[0;32m   1554\u001B[0m         \u001B[38;5;28;01mraise\u001B[39;00m \u001B[38;5;167;01mValueError\u001B[39;00m(\n\u001B[0;32m   1555\u001B[0m             \u001B[38;5;124m\"\u001B[39m\u001B[38;5;124mExcel file format cannot be determined, you must specify \u001B[39m\u001B[38;5;124m\"\u001B[39m\n\u001B[0;32m   1556\u001B[0m             \u001B[38;5;124m\"\u001B[39m\u001B[38;5;124man engine manually.\u001B[39m\u001B[38;5;124m\"\u001B[39m\n\u001B[0;32m   1557\u001B[0m         )\n",
      "File \u001B[1;32mD:\\anaconda\\anaconda\\Lib\\site-packages\\pandas\\io\\excel\\_base.py:1402\u001B[0m, in \u001B[0;36minspect_excel_format\u001B[1;34m(content_or_path, storage_options)\u001B[0m\n\u001B[0;32m   1399\u001B[0m \u001B[38;5;28;01mif\u001B[39;00m \u001B[38;5;28misinstance\u001B[39m(content_or_path, \u001B[38;5;28mbytes\u001B[39m):\n\u001B[0;32m   1400\u001B[0m     content_or_path \u001B[38;5;241m=\u001B[39m BytesIO(content_or_path)\n\u001B[1;32m-> 1402\u001B[0m \u001B[38;5;28;01mwith\u001B[39;00m get_handle(\n\u001B[0;32m   1403\u001B[0m     content_or_path, \u001B[38;5;124m\"\u001B[39m\u001B[38;5;124mrb\u001B[39m\u001B[38;5;124m\"\u001B[39m, storage_options\u001B[38;5;241m=\u001B[39mstorage_options, is_text\u001B[38;5;241m=\u001B[39m\u001B[38;5;28;01mFalse\u001B[39;00m\n\u001B[0;32m   1404\u001B[0m ) \u001B[38;5;28;01mas\u001B[39;00m handle:\n\u001B[0;32m   1405\u001B[0m     stream \u001B[38;5;241m=\u001B[39m handle\u001B[38;5;241m.\u001B[39mhandle\n\u001B[0;32m   1406\u001B[0m     stream\u001B[38;5;241m.\u001B[39mseek(\u001B[38;5;241m0\u001B[39m)\n",
      "File \u001B[1;32mD:\\anaconda\\anaconda\\Lib\\site-packages\\pandas\\io\\common.py:882\u001B[0m, in \u001B[0;36mget_handle\u001B[1;34m(path_or_buf, mode, encoding, compression, memory_map, is_text, errors, storage_options)\u001B[0m\n\u001B[0;32m    873\u001B[0m         handle \u001B[38;5;241m=\u001B[39m \u001B[38;5;28mopen\u001B[39m(\n\u001B[0;32m    874\u001B[0m             handle,\n\u001B[0;32m    875\u001B[0m             ioargs\u001B[38;5;241m.\u001B[39mmode,\n\u001B[1;32m   (...)\u001B[0m\n\u001B[0;32m    878\u001B[0m             newline\u001B[38;5;241m=\u001B[39m\u001B[38;5;124m\"\u001B[39m\u001B[38;5;124m\"\u001B[39m,\n\u001B[0;32m    879\u001B[0m         )\n\u001B[0;32m    880\u001B[0m     \u001B[38;5;28;01melse\u001B[39;00m:\n\u001B[0;32m    881\u001B[0m         \u001B[38;5;66;03m# Binary mode\u001B[39;00m\n\u001B[1;32m--> 882\u001B[0m         handle \u001B[38;5;241m=\u001B[39m \u001B[38;5;28mopen\u001B[39m(handle, ioargs\u001B[38;5;241m.\u001B[39mmode)\n\u001B[0;32m    883\u001B[0m     handles\u001B[38;5;241m.\u001B[39mappend(handle)\n\u001B[0;32m    885\u001B[0m \u001B[38;5;66;03m# Convert BytesIO or file objects passed with an encoding\u001B[39;00m\n",
      "\u001B[1;31mFileNotFoundError\u001B[0m: [Errno 2] No such file or directory: 'your file path'"
     ]
    }
   ],
   "execution_count": 3
  },
  {
   "metadata": {
    "ExecuteTime": {
     "end_time": "2025-04-08T02:10:28.365232Z",
     "start_time": "2025-04-08T02:10:28.347008Z"
    }
   },
   "cell_type": "code",
   "source": [
    "# data spilit\n",
    "features_num = 16\n",
    "features = df.values[:, 0:features_num]\n",
    "labels = df.values[:, features_num]\n",
    "train_data, test_data, train_label, test_label = train_test_split(features, labels, random_state=0, train_size=0.8)\n",
    "\n",
    "# Label coding\n",
    "le = LabelEncoder()\n",
    "y_train_encoded = le.fit_transform(train_label)\n",
    "train_label_encoded = le.fit_transform(train_label)\n",
    "\n",
    "# print(\"Encoded labels:\", train_label_encoded)\n",
    "# print(train_label)"
   ],
   "id": "bf4379f5153608f3",
   "outputs": [
    {
     "ename": "NameError",
     "evalue": "name 'df' is not defined",
     "output_type": "error",
     "traceback": [
      "\u001B[1;31m---------------------------------------------------------------------------\u001B[0m",
      "\u001B[1;31mNameError\u001B[0m                                 Traceback (most recent call last)",
      "Cell \u001B[1;32mIn[4], line 3\u001B[0m\n\u001B[0;32m      1\u001B[0m \u001B[38;5;66;03m# data spilit\u001B[39;00m\n\u001B[0;32m      2\u001B[0m features_num \u001B[38;5;241m=\u001B[39m \u001B[38;5;241m16\u001B[39m\n\u001B[1;32m----> 3\u001B[0m features \u001B[38;5;241m=\u001B[39m df\u001B[38;5;241m.\u001B[39mvalues[:, \u001B[38;5;241m0\u001B[39m:features_num]\n\u001B[0;32m      4\u001B[0m labels \u001B[38;5;241m=\u001B[39m df\u001B[38;5;241m.\u001B[39mvalues[:, features_num]\n\u001B[0;32m      5\u001B[0m train_data, test_data, train_label, test_label \u001B[38;5;241m=\u001B[39m train_test_split(features, labels, random_state\u001B[38;5;241m=\u001B[39m\u001B[38;5;241m0\u001B[39m, train_size\u001B[38;5;241m=\u001B[39m\u001B[38;5;241m0.8\u001B[39m)\n",
      "\u001B[1;31mNameError\u001B[0m: name 'df' is not defined"
     ]
    }
   ],
   "execution_count": 4
  },
  {
   "metadata": {
    "ExecuteTime": {
     "end_time": "2025-04-08T02:10:29.602037Z",
     "start_time": "2025-04-08T02:10:29.587150Z"
    }
   },
   "cell_type": "code",
   "source": [
    "# Sample weighting\n",
    "class_weight = {0: 0.5, 1: 5.0, 2: 1.0, 3: 1.0, 4: 1.0}     # “balanced”\n",
    "sample_weights = compute_sample_weight(class_weight, train_label_encoded)\n",
    "# print(\"Sample weights:\", sample_weights)"
   ],
   "id": "403a7f8a44d2c74c",
   "outputs": [
    {
     "ename": "NameError",
     "evalue": "name 'train_label_encoded' is not defined",
     "output_type": "error",
     "traceback": [
      "\u001B[1;31m---------------------------------------------------------------------------\u001B[0m",
      "\u001B[1;31mNameError\u001B[0m                                 Traceback (most recent call last)",
      "Cell \u001B[1;32mIn[5], line 3\u001B[0m\n\u001B[0;32m      1\u001B[0m \u001B[38;5;66;03m# Sample weighting\u001B[39;00m\n\u001B[0;32m      2\u001B[0m class_weight \u001B[38;5;241m=\u001B[39m {\u001B[38;5;241m0\u001B[39m: \u001B[38;5;241m0.5\u001B[39m, \u001B[38;5;241m1\u001B[39m: \u001B[38;5;241m5.0\u001B[39m, \u001B[38;5;241m2\u001B[39m: \u001B[38;5;241m1.0\u001B[39m, \u001B[38;5;241m3\u001B[39m: \u001B[38;5;241m1.0\u001B[39m, \u001B[38;5;241m4\u001B[39m: \u001B[38;5;241m1.0\u001B[39m}     \u001B[38;5;66;03m# “balanced”\u001B[39;00m\n\u001B[1;32m----> 3\u001B[0m sample_weights \u001B[38;5;241m=\u001B[39m compute_sample_weight(class_weight, train_label_encoded)\n",
      "\u001B[1;31mNameError\u001B[0m: name 'train_label_encoded' is not defined"
     ]
    }
   ],
   "execution_count": 5
  },
  {
   "metadata": {},
   "cell_type": "code",
   "source": [
    "'''Construct the SDM architecture'''\n",
    "# Define base classifierS\n",
    "tree = DecisionTreeClassifier(max_depth=5\n",
    "                                    , criterion=\"entropy\"\n",
    "                                    , random_state=3\n",
    "                                    , splitter=\"best\"\n",
    "                                    , min_samples_leaf=1\n",
    "                                    , max_features = 14\n",
    "                                    , min_samples_split = 16)\n",
    "rf = RandomForestClassifier(n_estimators=40\n",
    "                               , min_samples_split=5\n",
    "                               , random_state=0\n",
    "                               , oob_score=True\n",
    "                               , criterion=\"entropy\"\n",
    "                               , max_depth=3)\n",
    "lr = LogisticRegression(    \n",
    "    penalty='l2',\n",
    "    C=20,\n",
    "    solver='lbfgs',\n",
    "    multi_class='multinomial',\n",
    "    max_iter=1000,\n",
    "    class_weight='balanced')\n",
    "svc = SVC(probability=True)\n",
    "ada = AdaBoostClassifier(n_estimators=50)\n",
    "gbc = GradientBoostingClassifier(n_estimators=50)\n",
    "etc = ExtraTreesClassifier(n_estimators=10)\n",
    "\n",
    "# Define a Soft vote classifier\n",
    "model = VotingClassifier(estimators=[\n",
    "    ('dt', tree),\n",
    "    ('rf', rf),\n",
    "    ('lr', lr),\n",
    "    ('svc', svc),\n",
    "    ('ada', ada),\n",
    "    ('gbc', gbc),\n",
    "    ('etc', etc),\n",
    "    ],\n",
    "    voting = 'soft', weights = [0.15, 0.15, 0.15, 0.15, 0.15, 0.15, 0.1])"
   ],
   "id": "86f35e912acee66c",
   "outputs": [],
   "execution_count": null
  },
  {
   "metadata": {},
   "cell_type": "code",
   "outputs": [],
   "execution_count": null,
   "source": [
    "# train\n",
    "model = model.fit(train_data, train_label, sample_weight=sample_weights)\n",
    "\n",
    "score_test = model.score(test_data, test_label)\n",
    "print('Test data accuracy: ', score_test)\n",
    "score_train = model.score(train_data, train_label)\n",
    "print('Train data accuracy: ', score_train)\n",
    "\n",
    "#save model\n",
    "joblib.dump(model, r\"your file path\")"
   ],
   "id": "451e646f98d56ff5"
  },
  {
   "metadata": {
    "ExecuteTime": {
     "end_time": "2025-04-08T02:10:30.454647Z",
     "start_time": "2025-04-08T02:10:30.447170Z"
    }
   },
   "cell_type": "code",
   "outputs": [],
   "execution_count": 6,
   "source": [
    "# 10-fold cross-validation\n",
    "from sklearn.model_selection import cross_val_score, KFold\n",
    "kfold = KFold(n_splits=10)\n",
    "scores = cross_val_score(model, features, labels, cv=kfold)\n",
    "for i, score in enumerate(scores):\n",
    "    print(\"Fold {}: {:.4f}\".format(i+1, score))\n",
    "\n",
    "print(\"Average Accuracy: {:.4f}\".format(scores.mean()))\n",
    "\n",
    "# F1_score\n",
    "from sklearn.metrics import f1_score\n",
    "pre_test_label = model.predict(test_data)\n",
    "print(\"F1_score:\", f1_score(test_label, pre_test_label, average='macro'))\n"
   ],
   "id": "847b5f6e0ef0e259"
  },
  {
   "metadata": {
    "ExecuteTime": {
     "end_time": "2025-04-08T02:10:31.909358Z",
     "start_time": "2025-04-08T02:10:31.893300Z"
    }
   },
   "cell_type": "code",
   "source": [
    "# confusion matrix\n",
    "disp = ConfusionMatrixDisplay.from_estimator(\n",
    "        model,\n",
    "        test_data,\n",
    "        test_label,\n",
    "        cmap=plt.cm.Blues,\n",
    "        normalize=\"true\",\n",
    "    )\n",
    "disp.ax_.set_title('WRF')\n",
    "plt.savefig(r\"The path where you save\")\n",
    "plt.show()\n"
   ],
   "id": "initial_id",
   "outputs": [
    {
     "ename": "NameError",
     "evalue": "name 'test_data' is not defined",
     "output_type": "error",
     "traceback": [
      "\u001B[1;31m---------------------------------------------------------------------------\u001B[0m",
      "\u001B[1;31mNameError\u001B[0m                                 Traceback (most recent call last)",
      "Cell \u001B[1;32mIn[7], line 4\u001B[0m\n\u001B[0;32m      1\u001B[0m \u001B[38;5;66;03m# normalize confusion matrix)\u001B[39;00m\n\u001B[0;32m      2\u001B[0m disp \u001B[38;5;241m=\u001B[39m ConfusionMatrixDisplay\u001B[38;5;241m.\u001B[39mfrom_estimator(\n\u001B[0;32m      3\u001B[0m         model,\n\u001B[1;32m----> 4\u001B[0m         test_data,\n\u001B[0;32m      5\u001B[0m         test_label,\n\u001B[0;32m      6\u001B[0m         cmap\u001B[38;5;241m=\u001B[39mplt\u001B[38;5;241m.\u001B[39mcm\u001B[38;5;241m.\u001B[39mBlues,\n\u001B[0;32m      7\u001B[0m         normalize\u001B[38;5;241m=\u001B[39m\u001B[38;5;124m\"\u001B[39m\u001B[38;5;124mtrue\u001B[39m\u001B[38;5;124m\"\u001B[39m,\n\u001B[0;32m      8\u001B[0m     )\n\u001B[0;32m      9\u001B[0m disp\u001B[38;5;241m.\u001B[39max_\u001B[38;5;241m.\u001B[39mset_title(\u001B[38;5;124m'\u001B[39m\u001B[38;5;124mWRF\u001B[39m\u001B[38;5;124m'\u001B[39m)\n\u001B[0;32m     10\u001B[0m plt\u001B[38;5;241m.\u001B[39msavefig(\u001B[38;5;124mr\u001B[39m\u001B[38;5;124m\"\u001B[39m\u001B[38;5;124mThe path where you save\u001B[39m\u001B[38;5;124m\"\u001B[39m)    \u001B[38;5;66;03m#保存图片一定要在plt.show()之前\u001B[39;00m\n",
      "\u001B[1;31mNameError\u001B[0m: name 'test_data' is not defined"
     ]
    }
   ],
   "execution_count": 7
  },
  {
   "metadata": {
    "ExecuteTime": {
     "end_time": "2025-04-08T02:09:51.150384500Z",
     "start_time": "2024-08-30T08:47:03.042338Z"
    }
   },
   "cell_type": "code",
   "source": "",
   "id": "9e1bf5a927653530",
   "outputs": [],
   "execution_count": 7
  }
 ],
 "metadata": {
  "kernelspec": {
   "display_name": "Python 3",
   "language": "python",
   "name": "python3"
  },
  "language_info": {
   "codemirror_mode": {
    "name": "ipython",
    "version": 2
   },
   "file_extension": ".py",
   "mimetype": "text/x-python",
   "name": "python",
   "nbconvert_exporter": "python",
   "pygments_lexer": "ipython2",
   "version": "2.7.6"
  }
 },
 "nbformat": 4,
 "nbformat_minor": 5
}
