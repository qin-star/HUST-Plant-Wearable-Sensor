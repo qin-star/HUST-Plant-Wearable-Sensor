{
 "cells": [
  {
   "cell_type": "code",
   "id": "485892478368fde",
   "metadata": {
    "collapsed": true
   },
   "source": [
    "import numpy as np\n",
    "from sklearn.metrics import ConfusionMatrixDisplay\n",
    "import pandas as pd\n",
    "import matplotlib.pyplot as plt\n",
    "import joblib\n",
    "from sklearn.utils.class_weight import compute_sample_weight\n",
    "from sklearn.preprocessing import LabelEncoder\n",
    "from sklearn.metrics import accuracy_score\n",
    "from sklearn.model_selection import train_test_split\n",
    "from sklearn.discriminant_analysis import LinearDiscriminantAnalysis\n",
    "from sklearn.ensemble import VotingClassifier, RandomForestClassifier, AdaBoostClassifier, GradientBoostingClassifier, ExtraTreesClassifier\n",
    "from sklearn.tree import DecisionTreeClassifier\n",
    "from sklearn.linear_model import LogisticRegression\n",
    "from sklearn.svm import SVC\n",
    "\n",
    "\n",
    "import warnings\n",
    "warnings.filterwarnings(\"ignore\")\n",
    "\n",
    "# read data\n",
    "df=pd.read_excel(io=r\"your file path\")\n",
    "# print(df.values[0,0])\n",
    "row = len(df.values)\n",
    "# print(row)\n"
   ],
   "outputs": [],
   "execution_count": null
  },
  {
   "metadata": {},
   "cell_type": "code",
   "source": [
    "# data spilit\n",
    "features_num = 16\n",
    "features = df.values[:, 0:features_num]\n",
    "labels = df.values[:, features_num]\n",
    "train_data, test_data, train_label, test_label = train_test_split(features, labels, random_state=0, train_size=0.8)\n",
    "\n",
    "# Label coding\n",
    "le = LabelEncoder()\n",
    "y_train_encoded = le.fit_transform(train_label)\n",
    "train_label_encoded = le.fit_transform(train_label)\n",
    "\n",
    "# print(\"Encoded labels:\", train_label_encoded)\n",
    "# print(train_label)"
   ],
   "id": "bf4379f5153608f3",
   "outputs": [],
   "execution_count": null
  },
  {
   "metadata": {},
   "cell_type": "code",
   "source": [
    "# Sample weighting\n",
    "class_weight = {0: 0.5, 1: 5.0, 2: 1.0, 3: 1.0, 4: 1.0}     # “balanced”\n",
    "sample_weights = compute_sample_weight(class_weight, train_label_encoded)\n",
    "# print(\"Sample weights:\", sample_weights)"
   ],
   "id": "403a7f8a44d2c74c",
   "outputs": [],
   "execution_count": null
  },
  {
   "metadata": {},
   "cell_type": "code",
   "source": [
    "'''Construct the SDM architecture'''\n",
    "# Define base classifierS\n",
    "tree = DecisionTreeClassifier(max_depth=5\n",
    "                                    , criterion=\"entropy\"\n",
    "                                    , random_state=3\n",
    "                                    , splitter=\"best\"\n",
    "                                    , min_samples_leaf=1\n",
    "                                    , max_features = 14\n",
    "                                    , min_samples_split = 16)\n",
    "rf = RandomForestClassifier(n_estimators=40\n",
    "                               , min_samples_split=5\n",
    "                               , random_state=0\n",
    "                               , oob_score=True\n",
    "                               , criterion=\"entropy\"\n",
    "                               , max_depth=3)\n",
    "lr = LogisticRegression(    \n",
    "    penalty='l2',\n",
    "    C=20,\n",
    "    solver='lbfgs',\n",
    "    multi_class='multinomial',\n",
    "    max_iter=1000,\n",
    "    class_weight='balanced')\n",
    "svc = SVC(probability=True)\n",
    "ada = AdaBoostClassifier(n_estimators=50)\n",
    "gbc = GradientBoostingClassifier(n_estimators=50)\n",
    "etc = ExtraTreesClassifier(n_estimators=10)\n",
    "\n",
    "# Define a Soft vote classifier\n",
    "model = VotingClassifier(estimators=[\n",
    "    ('dt', tree),\n",
    "    ('rf', rf),\n",
    "    ('lr', lr),\n",
    "    ('svc', svc),\n",
    "    ('ada', ada),\n",
    "    ('gbc', gbc),\n",
    "    ('etc', etc),\n",
    "    ],\n",
    "    voting = 'soft', weights = [0.15, 0.15, 0.15, 0.15, 0.15, 0.15, 0.1])"
   ],
   "id": "86f35e912acee66c",
   "outputs": [],
   "execution_count": null
  },
  {
   "metadata": {},
   "cell_type": "code",
   "source": [
    "# train\n",
    "model = model.fit(train_data, train_label, sample_weight=sample_weights)\n",
    "\n",
    "score_test = model.score(test_data, test_label)\n",
    "print('Test data accuracy: ', score_test)\n",
    "score_train = model.score(train_data, train_label)\n",
    "print('Train data accuracy: ', score_train)\n",
    "\n",
    "#save model\n",
    "joblib.dump(model, r\"your file path\")"
   ],
   "id": "451e646f98d56ff5",
   "outputs": [],
   "execution_count": null
  },
  {
   "metadata": {},
   "cell_type": "code",
   "source": [
    "# 10-fold cross-validation\n",
    "from sklearn.model_selection import cross_val_score, KFold\n",
    "kfold = KFold(n_splits=10)\n",
    "scores = cross_val_score(model, features, labels, cv=kfold)\n",
    "for i, score in enumerate(scores):\n",
    "    print(\"Fold {}: {:.4f}\".format(i+1, score))\n",
    "\n",
    "print(\"Average Accuracy: {:.4f}\".format(scores.mean()))\n",
    "\n",
    "# F1_score\n",
    "from sklearn.metrics import f1_score\n",
    "pre_test_label = model.predict(test_data)\n",
    "print(\"F1_score:\", f1_score(test_label, pre_test_label, average='macro'))\n"
   ],
   "id": "847b5f6e0ef0e259",
   "outputs": [],
   "execution_count": null
  },
  {
   "metadata": {},
   "cell_type": "code",
   "source": [
    "# confusion matrix\n",
    "disp = ConfusionMatrixDisplay.from_estimator(\n",
    "        model,\n",
    "        test_data,\n",
    "        test_label,\n",
    "        cmap=plt.cm.Blues,\n",
    "        normalize=\"true\",\n",
    "    )\n",
    "disp.ax_.set_title('WRF')\n",
    "plt.savefig(r\"The path where you save\")\n",
    "plt.show()\n"
   ],
   "id": "initial_id",
   "outputs": [],
   "execution_count": null
  }
 ],
 "metadata": {
  "kernelspec": {
   "display_name": "Python 3",
   "language": "python",
   "name": "python3"
  },
  "language_info": {
   "codemirror_mode": {
    "name": "ipython",
    "version": 2
   },
   "file_extension": ".py",
   "mimetype": "text/x-python",
   "name": "python",
   "nbconvert_exporter": "python",
   "pygments_lexer": "ipython2",
   "version": "2.7.6"
  }
 },
 "nbformat": 4,
 "nbformat_minor": 5
}
